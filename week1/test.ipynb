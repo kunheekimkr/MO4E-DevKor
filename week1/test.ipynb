{
 "cells": [
  {
   "cell_type": "markdown",
   "metadata": {},
   "source": [
    "# Week1 : DataSet + Model 구성하기\n",
    "\n",
    "\n",
    "## 1. PyKrx 파헤치기\n",
    "우선 pykrx로 수집 가능한 데이터 목록을 확인하였다.\n"
   ]
  },
  {
   "cell_type": "code",
   "execution_count": 2,
   "metadata": {},
   "outputs": [],
   "source": [
    "from pykrx import stock"
   ]
  },
  {
   "cell_type": "code",
   "execution_count": 3,
   "metadata": {},
   "outputs": [
    {
     "name": "stdout",
     "output_type": "stream",
     "text": [
      "951\n",
      "['095570', '006840', '027410', '282330', '138930', '001460', '001465', '001040', '079160', '00104K']\n"
     ]
    }
   ],
   "source": [
    "## ticker 조회\n",
    "tickers = stock.get_market_ticker_list()\n",
    "print (len(tickers))\n",
    "print (tickers[0:10])"
   ]
  },
  {
   "cell_type": "markdown",
   "metadata": {},
   "source": [
    "KOSPI 시장에 등록된 951개 종목의 Ticker를 모두 확인할 수 있다."
   ]
  },
  {
   "cell_type": "code",
   "execution_count": 4,
   "metadata": {},
   "outputs": [
    {
     "name": "stdout",
     "output_type": "stream",
     "text": [
      "095570 AJ네트웍스\n",
      "006840 AK홀딩스\n",
      "027410 BGF\n",
      "282330 BGF리테일\n",
      "138930 BNK금융지주\n",
      "001460 BYC\n",
      "001465 BYC우\n",
      "001040 CJ\n",
      "079160 CJ CGV\n",
      "00104K CJ4우(전환)\n"
     ]
    }
   ],
   "source": [
    "for ticker in tickers[0:10]:\n",
    "    print (ticker, stock.get_market_ticker_name(ticker))"
   ]
  },
  {
   "cell_type": "markdown",
   "metadata": {},
   "source": [
    "Ticker가 무슨 순서로 반환되나 궁금했는데, 종목명 Alphabetical order로 반환되는 것을 알 수 있었다.\n",
    "\n",
    "OHLCV: Open, High, Low, Close, Volume\n",
    "주식의 시가, 고가, 저가, 종가, 거래량이라는 주요 정보를 확인 가능하다."
   ]
  },
  {
   "cell_type": "code",
   "execution_count": 5,
   "metadata": {},
   "outputs": [
    {
     "name": "stdout",
     "output_type": "stream",
     "text": [
      "            시가      고가      저가      종가     거래량        거래대금   등락률\n",
      "티커                                                              \n",
      "095570    4210    4260    4110    4215  241580  1007180610 -0.12\n",
      "006840   18400   18400   18200   18330    2767    50561890  0.38\n",
      "027410    3570    3600    3560    3575   40129   143286585 -0.42\n",
      "282330  143000  145000  141200  143000   48466  6906980100 -0.83\n",
      "138930    6950    7050    6930    7040  682325  4770776990  0.86\n"
     ]
    }
   ],
   "source": [
    "df = stock.get_market_ohlcv(\"20230922\")\n",
    "print(df.head())"
   ]
  },
  {
   "cell_type": "code",
   "execution_count": 6,
   "metadata": {},
   "outputs": [
    {
     "name": "stdout",
     "output_type": "stream",
     "text": [
      "            종목명      시가      종가    변동폭   등락률       거래량         거래대금\n",
      "티커                                                                 \n",
      "095570   AJ네트웍스    4140    4215     75  1.81  12129705  53797258250\n",
      "006840    AK홀딩스   19330   18330  -1000 -5.17    102952   1925209470\n",
      "027410      BGF    3625    3575    -50 -1.38    623725   2255155755\n",
      "282330   BGF리테일  156400  143000 -13400 -8.57    504545  76149906000\n",
      "138930  BNK금융지주    6820    7040    220  3.23  13172581  92161202050\n"
     ]
    }
   ],
   "source": [
    "df = stock.get_market_price_change(\"20230901\", \"20230922\")\n",
    "print(df.head())"
   ]
  },
  {
   "cell_type": "markdown",
   "metadata": {},
   "source": [
    "Div/Bps/Per/Eps 등 세부 정보도 확인 가능하다."
   ]
  },
  {
   "cell_type": "code",
   "execution_count": 10,
   "metadata": {},
   "outputs": [
    {
     "name": "stdout",
     "output_type": "stream",
     "text": [
      "          BPS    PER   PBR    EPS   DIV   DPS\n",
      "티커                                           \n",
      "095570   8076  20.97  0.52    201  6.41   270\n",
      "006840  41948   0.00  0.44      0  1.09   200\n",
      "027410  16528  14.47  0.22    247  3.08   110\n",
      "282330  55724  12.76  2.57  11203  2.87  4100\n",
      "138930  30468   2.93  0.23   2404  8.88   625\n"
     ]
    }
   ],
   "source": [
    "df = stock.get_market_fundamental(\"20230922\")\n",
    "print(df.head())"
   ]
  },
  {
   "cell_type": "markdown",
   "metadata": {},
   "source": [
    "거래량, 거래 대금, 투자자별 거래 실적, 외국인 보유량 등의 정보도 확인 가능하다.\n",
    "시장 전체/ 티커별/ 특정 종목 에 대해 호출해 정보를 확인할 수 있다."
   ]
  },
  {
   "cell_type": "code",
   "execution_count": 14,
   "metadata": {},
   "outputs": [
    {
     "name": "stdout",
     "output_type": "stream",
     "text": [
      "                    기관합계        기타법인            개인         외국인합계  전체\n",
      "날짜                                                                  \n",
      "2023-09-01  139427490300 -1161296400 -690605779000  552339585100   0\n",
      "2023-09-04  -68052267400   392177000 -176985447700  244645538100   0\n",
      "2023-09-05  -74350579000  -111740400  -47203512700  121665832100   0\n",
      "2023-09-06  -59255465000   -53886800   -2481822300   61791174100   0\n",
      "2023-09-07  -38706263000   375561900  -53537474400   91868175500   0\n"
     ]
    }
   ],
   "source": [
    "df = stock.get_market_trading_value_by_date(\"20230901\", \"20230922\", \"005930\")\n",
    "print(df.head())"
   ]
  },
  {
   "cell_type": "code",
   "execution_count": 13,
   "metadata": {},
   "outputs": [
    {
     "name": "stdout",
     "output_type": "stream",
     "text": [
      "             매도        매수      순매수\n",
      "투자자구분                             \n",
      "금융투자   17496001  22483495  4987494\n",
      "보험      1576714    930898  -645816\n",
      "투신      2185597   4328441  2142844\n",
      "사모      3345234   4904165  1558931\n",
      "은행        74135    195415   121280\n"
     ]
    }
   ],
   "source": [
    "df = stock.get_market_trading_volume_by_investor(\"20230901\", \"20230922\", \"005930\") # 삼성전자\n",
    "print(df.head())"
   ]
  },
  {
   "cell_type": "code",
   "execution_count": 16,
   "metadata": {},
   "outputs": [
    {
     "name": "stdout",
     "output_type": "stream",
     "text": [
      "           상장주식수      보유수량        지분율      한도수량      한도소진률\n",
      "티커                                                        \n",
      "000020  27931470   1317219   4.718750  27931470   4.718750\n",
      "000040  96138465  44258009  46.031250  96138465  46.031250\n",
      "000050  27415270    296866   1.080078  27415270   1.080078\n",
      "000070   8564271    705161   8.226562   8564271   8.226562\n",
      "000075    304058      4017   1.320312    304058   1.320312\n"
     ]
    }
   ],
   "source": [
    "df = stock.get_exhaustion_rates_of_foreign_investment('20230922')\n",
    "print(df.head())"
   ]
  },
  {
   "cell_type": "markdown",
   "metadata": {},
   "source": [
    "순매수 상위 종목을 확인할 수 있다.\n",
    "특정 종목이 아닌 전체 시장에 대해 주제를 잡아보고 싶어 유용할 것 같다."
   ]
  },
  {
   "cell_type": "code",
   "execution_count": 17,
   "metadata": {},
   "outputs": [
    {
     "name": "stdout",
     "output_type": "stream",
     "text": [
      "             종목명     매도거래량     매수거래량   순매수거래량         매도거래대금         매수거래대금  \\\n",
      "티커                                                                            \n",
      "005490  POSCO홀딩스  10022415  10966828   944413  5760590868000  6308538012000   \n",
      "373220  LG에너지솔루션    975566   1586967   611401   498478974000   810010465500   \n",
      "051910      LG화학    897826   1311951   414125   502150126000   723282329000   \n",
      "003670    포스코퓨처엠   4169795   4662972   493177  1734495216500  1938789703500   \n",
      "096770   SK이노베이션   2944169   4104267  1160098   491555149000   681441494700   \n",
      "\n",
      "             순매수거래대금  \n",
      "티커                    \n",
      "005490  547947144000  \n",
      "373220  311531491500  \n",
      "051910  221132203000  \n",
      "003670  204294487000  \n",
      "096770  189886345700  \n"
     ]
    }
   ],
   "source": [
    "df = stock.get_market_net_purchases_of_equities(\"20230901\", \"20230922\", \"KOSPI\", \"개인\")\n",
    "print(df.head())"
   ]
  },
  {
   "cell_type": "markdown",
   "metadata": {},
   "source": [
    "계속해서, 전체 시장에 대한 정보 확인에 도움이 될 인덱스 조회 API도 있었다."
   ]
  },
  {
   "cell_type": "code",
   "execution_count": 18,
   "metadata": {},
   "outputs": [
    {
     "name": "stdout",
     "output_type": "stream",
     "text": [
      "1001 코스피\n",
      "1002 코스피 대형주\n",
      "1003 코스피 중형주\n",
      "1004 코스피 소형주\n",
      "1005 음식료품\n",
      "1006 섬유의복\n",
      "1007 종이목재\n",
      "1008 화학\n",
      "1009 의약품\n",
      "1010 비금속광물\n",
      "1011 철강금속\n",
      "1012 기계\n",
      "1013 전기전자\n",
      "1014 의료정밀\n",
      "1015 운수장비\n",
      "1016 유통업\n",
      "1017 전기가스업\n",
      "1018 건설업\n",
      "1019 운수창고업\n",
      "1020 통신업\n",
      "1021 금융업\n",
      "1024 증권\n",
      "1025 보험\n",
      "1026 서비스업\n",
      "1027 제조업\n",
      "1028 코스피 200\n",
      "1034 코스피 100\n",
      "1035 코스피 50\n",
      "1150 코스피 200 커뮤니케이션서비스\n",
      "1151 코스피 200 건설\n",
      "1152 코스피 200 중공업\n",
      "1153 코스피 200 철강/소재\n",
      "1154 코스피 200 에너지/화학\n",
      "1155 코스피 200 정보기술\n",
      "1156 코스피 200 금융\n",
      "1157 코스피 200 생활소비재\n",
      "1158 코스피 200 경기소비재\n",
      "1159 코스피 200 산업재\n",
      "1160 코스피 200 헬스케어\n",
      "1167 코스피 200 중소형주\n",
      "1182 코스피 200 초대형제외 지수\n",
      "1224 코스피 200 비중상한 30%\n",
      "1227 코스피 200 비중상한 25%\n",
      "1232 코스피 200 비중상한 20%\n",
      "1244 코스피200제외 코스피지수\n",
      "1894 코스피 200 TOP 10\n"
     ]
    }
   ],
   "source": [
    "tickers = stock.get_index_ticker_list()\n",
    "for ticker in stock.get_index_ticker_list():\n",
    "    print(ticker, stock.get_index_ticker_name(ticker))"
   ]
  },
  {
   "cell_type": "markdown",
   "metadata": {},
   "source": [
    "인덱스의 OHLCV, 등락률, Fundamental (PER/PBR/배당수익률) 등의 정보를 불러올 수 있다."
   ]
  },
  {
   "cell_type": "code",
   "execution_count": 19,
   "metadata": {},
   "outputs": [
    {
     "name": "stdout",
     "output_type": "stream",
     "text": [
      "코스피              시가       고가       저가       종가        거래량            거래대금  \\\n",
      "날짜                                                                          \n",
      "2023-09-01  2551.93  2568.42  2551.04  2563.71  493367317  10029746225521   \n",
      "2023-09-04  2566.93  2584.55  2560.32  2584.55  342072516   8699609485382   \n",
      "2023-09-05  2578.91  2586.65  2575.19  2582.18  384579023   7590068827455   \n",
      "2023-09-06  2577.41  2585.98  2560.09  2563.34  422126144   7626693242222   \n",
      "2023-09-07  2554.87  2562.42  2539.24  2548.26  377270533   8325826544902   \n",
      "\n",
      "코스피                   상장시가총액  \n",
      "날짜                            \n",
      "2023-09-01  2033321986422776  \n",
      "2023-09-04  2050034095713728  \n",
      "2023-09-05  2048141824784019  \n",
      "2023-09-06  2033216059472071  \n",
      "2023-09-07  2021630331132979  \n"
     ]
    }
   ],
   "source": [
    "df = stock.get_index_ohlcv(\"20230901\", \"20230922\", \"1001\")\n",
    "print(df.head())"
   ]
  },
  {
   "cell_type": "code",
   "execution_count": 21,
   "metadata": {},
   "outputs": [
    {
     "name": "stdout",
     "output_type": "stream",
     "text": [
      "                   시가       종가       등락률         거래량             거래대금\n",
      "지수명                                                                  \n",
      "코스피           2556.27  2508.13 -1.879883  6579159795  137139862796418\n",
      "코스피 200        334.75   332.02 -0.819824  1638567429   96473847463513\n",
      "코스피 100       2520.95  2500.72 -0.799805  1079781716   80290572961747\n",
      "코스피 50        2309.65  2289.67 -0.870117   728073149   65753024154491\n",
      "코스피 200 중소형주  1209.82  1188.67 -1.750000   558785713   16183274501766\n"
     ]
    }
   ],
   "source": [
    "df = stock.get_index_price_change(\"20230901\", \"20230922\", \"KOSPI\")\n",
    "print(df.head())"
   ]
  },
  {
   "cell_type": "code",
   "execution_count": 22,
   "metadata": {},
   "outputs": [
    {
     "name": "stdout",
     "output_type": "stream",
     "text": [
      "                 종가   등락률    PER  선행PER   PBR  배당수익률\n",
      "날짜                                                  \n",
      "2023-09-01  2563.71  0.29  15.68    0.0  0.94   1.93\n",
      "2023-09-04  2584.55  0.81  15.81    0.0  0.95   1.92\n",
      "2023-09-05  2582.18 -0.09  15.80    0.0  0.95   1.92\n",
      "2023-09-06  2563.34 -0.73  15.68    0.0  0.94   1.93\n",
      "2023-09-07  2548.26 -0.59  15.59    0.0  0.93   1.94\n"
     ]
    }
   ],
   "source": [
    "df = stock.get_index_fundamental(\"20230901\", \"20230922\", \"1001\")\n",
    "print(df.head())"
   ]
  },
  {
   "cell_type": "markdown",
   "metadata": {},
   "source": [
    "공매도/ ETX / 채권 등에 대한 API도 있지만 이번 프로젝트에서는 사용하지 않을 것 같아 제외하였다."
   ]
  },
  {
   "cell_type": "markdown",
   "metadata": {},
   "source": [
    "## 2. DataSet 구성하기\n",
    "\n",
    "특정 종목에 대해 집중하기 보다는, 전체적인 시장 흐름을 예측하는 모델을 해보고 싶었다. 과거 시간대 수치의 변화를 가지고 예측하는 것은 경제학적 인사이트가 부족해 이보다는, 실제 사회적인 분위기와 연관지어 예측하는 모델을 만들어 보면 좋을 것 같았고, 뉴스 헤드라인을 크롤링해 이를 바탕으로 코스피 지수의 등락을 예측하는 자연어 처리 모델을 설계해보기로 하였다."
   ]
  },
  {
   "cell_type": "markdown",
   "metadata": {},
   "source": [
    "### 2.1 News Headline Crawling\n",
    "\n",
    "뉴스 헤드라인 데이터는 네이버 뉴스에서 크롤링하기로 하였다. 사이트를 분석해 본 결과 2021년 1월 1일부터 현재까지 각 날짜별로 언론사 인기 헤드라인을 확인할 수 있었다. 또, 각 날짜별로 랜덤하게 12개 언론사의 Top 5 헤드라인이 표시된다. 이 방법은 언론사 별로 겹치는 헤드라인이 많아, 한 언론사에서 모든 헤드라인을 추출하기로 하였다. 이 경우 2020년 11월 16일부터 언론사의 20개 헤드라인을 확인할 수 있었다. 특별한 의미는 없고, 언론사 코드 001을 사용하는 연합뉴스의 헤드라인을 크롤링하기로 하였다."
   ]
  },
  {
   "cell_type": "code",
   "execution_count": 36,
   "metadata": {},
   "outputs": [],
   "source": [
    "## Import modules\n",
    "import requests\n",
    "from bs4 import BeautifulSoup\n",
    "import datetime\n",
    "BASE_URL = 'https://media.naver.com/press/001/ranking?type=popular&date='"
   ]
  },
  {
   "cell_type": "code",
   "execution_count": 46,
   "metadata": {},
   "outputs": [],
   "source": [
    "def CrawlHeadlines(date):\n",
    "    ## Get HTML\n",
    "    response = requests.get(BASE_URL + date)\n",
    "    html = response.text\n",
    "\n",
    "    ## parse class \"press_ranking_list\"\n",
    "    soup = BeautifulSoup(html, 'html.parser')\n",
    "    ranking_list = soup.select('.list_title')\n",
    "    headlines = []\n",
    "    ## parse all text in ranking_list\n",
    "    for headline in ranking_list:\n",
    "        headlines.append(headline.text)\n",
    "    return headlines\n"
   ]
  },
  {
   "cell_type": "markdown",
   "metadata": {},
   "source": [
    "Parsing이 제대로 일어나는 것을 확인하기 위해 오늘 날짜의 헤드라인을 확인해보았다."
   ]
  },
  {
   "cell_type": "code",
   "execution_count": 47,
   "metadata": {},
   "outputs": [
    {
     "name": "stdout",
     "output_type": "stream",
     "text": [
      "['\"지하철 타는 게 낙…\" NYT \\'무료승차\\' 韓노인의 하루 조명', \"한총리에 '뼈있는 발언' 시진핑…中 발표문엔 '방한' 언급 없어\", '[아시안게임] \\'올림픽 이어 기수\\' 구본길 \"김서영과 함께라 부담 덜 해\"', \"서울 송파·김포서 일가족 5명 숨져…'돈문제 갈등' 유서(종합2보)\", '친환경·디지털·스마트…제19회 항저우 아시안게임 화려한 개막(종합)', '흑해함대 공격한 우크라 \"러 고위 지휘관 숨져…수십명 사상\"', '[아시안게임] 북한 인공기 게양 금지인데…개회식서도 펄럭(종합)', '尹대통령 \"천안·홍성 국가첨단산업단지 조성 빈틈없이 챙길 것\"', '시진핑, 한총리에 \"방한 진지 검토…한반도 평화 안정에 노력\"(종합)', '9개월 전과 다르네?… 미국 찾아간 젤렌스키에 미묘한 온도차', '英서 140여년 전 숨진 에티오피아 왕자, 머리카락만 고국 품으로', '친환경·디지털·스마트…제19회 항저우 아시안게임 화려한 개막', '이재명, 의료진 권고에 24일차에 단식 중단…\"법원 출석\"(종합2보)', '이재명 체포동의안 가결에 비명계 의원들 살인예고…40대 검거', '14일만에 달 남극에 해가 떴지만…영원히 잠든 인도 달착륙선', '\"반갑다 인왕봉\" 57년만에 빗장푼 무등산 정상…尹대통령도 축전(종합)', \"뉴욕증시, 연준 당국자들 '매파 발언'에 하락…다우 0.31%↓ 마감\", '[아시안게임] 북한 인공기 게양 금지인데…곳곳에서 버젓이 펄럭', '디즈니코리아 대표 \"\\'무빙\\' 시즌2 당연히 검토…의지 확고해\"', '포스트 말론이 들어 올린 젊음의 축배…\"지금 더 사랑하라\"']\n"
     ]
    }
   ],
   "source": [
    "now = datetime.datetime.now()\n",
    "nowDate = now.strftime('%Y%m%d')\n",
    "print(CrawlHeadlines(nowDate))"
   ]
  },
  {
   "cell_type": "code",
   "execution_count": 42,
   "metadata": {},
   "outputs": [
    {
     "name": "stdout",
     "output_type": "stream",
     "text": [
      "['Date', 'Headline1', 'Headline2', 'Headline3', 'Headline4', 'Headline5', 'Headline6', 'Headline7', 'Headline8', 'Headline9', 'Headline10', 'Headline11', 'Headline12', 'Headline13', 'Headline14', 'Headline15', 'Headline16', 'Headline17', 'Headline18', 'Headline19', 'Headline20']\n"
     ]
    }
   ],
   "source": [
    "Columns = ['Date']\n",
    "for i in range (1, 21):\n",
    "    Columns.append('Headline' + str(i))\n",
    "\n",
    "print (Columns)"
   ]
  },
  {
   "cell_type": "code",
   "execution_count": 53,
   "metadata": {},
   "outputs": [],
   "source": [
    "## Create a CSV \n",
    "import csv\n",
    "f = open('Headlines.csv', 'w', encoding='utf-8', newline='')\n",
    "wr = csv.writer(f)\n",
    "wr.writerow(Columns)\n",
    "\n",
    "# Loop date from 2020-11-16 to 2023-09-24\n",
    "start_date = datetime.date(2020, 11, 16)\n",
    "end_date = datetime.date(2023, 9, 24)\n",
    "delta = datetime.timedelta(days=1)\n",
    "\n",
    "while start_date <= end_date:\n",
    "    date = start_date.strftime('%Y%m%d')\n",
    "    headlines = CrawlHeadlines(date)\n",
    "    if len(headlines) == 0: ## 일부 날짜 데이터가 누락된 경우가 있음\n",
    "        start_date += delta\n",
    "        continue\n",
    "    headlines.insert(0, date)\n",
    "    wr.writerow(headlines)\n",
    "    start_date += delta\n",
    "\n",
    "f.close()"
   ]
  },
  {
   "cell_type": "markdown",
   "metadata": {},
   "source": [
    "### 2.2 KOSPI 등락 수집"
   ]
  },
  {
   "cell_type": "markdown",
   "metadata": {},
   "source": [
    "같은 기간에 대해 KOSPI 지수의 등락 정보도 PyKrx를 이용해 수집하였다. 우선 후에 사용할 수 있으니 등락률을 그대로 저장하기로 하였다."
   ]
  },
  {
   "cell_type": "code",
   "execution_count": 63,
   "metadata": {},
   "outputs": [
    {
     "name": "stdout",
     "output_type": "stream",
     "text": [
      "날짜\n",
      "20201116    1.97\n",
      "20201117   -0.15\n",
      "20201118    0.26\n",
      "20201119    0.07\n",
      "20201120    0.24\n",
      "Name: 등락률, dtype: float64\n"
     ]
    }
   ],
   "source": [
    "df = stock.get_index_fundamental(\"20201116\", \"20230924\", \"1001\")\n",
    "df = df['등락률']\n",
    "\n",
    "# 날짜 양식 변경 (YYYYMMDD)\n",
    "df.index = df.index.map(lambda x: str(x).replace(\"-\", \"\"))\n",
    "df.index = df.index.map(lambda x: str(x)[0:8])\n",
    "print(df.head())\n",
    "\n",
    "## Save as CSV\n",
    "df.to_csv(\"KOSPI.csv\", mode='w')"
   ]
  },
  {
   "cell_type": "markdown",
   "metadata": {},
   "source": [
    "주의하여야 할 점은 시장이 쉬는 날의 등락률을 0으로 처리해 사용할지, 해당 날짜는 완전히 제외하고 사용할지를 고민해 보아야 한다."
   ]
  },
  {
   "cell_type": "markdown",
   "metadata": {},
   "source": [
    "## 3. Model 구성하기"
   ]
  },
  {
   "cell_type": "code",
   "execution_count": null,
   "metadata": {},
   "outputs": [],
   "source": []
  }
 ],
 "metadata": {
  "kernelspec": {
   "display_name": "kerasenv",
   "language": "python",
   "name": "python3"
  },
  "language_info": {
   "codemirror_mode": {
    "name": "ipython",
    "version": 3
   },
   "file_extension": ".py",
   "mimetype": "text/x-python",
   "name": "python",
   "nbconvert_exporter": "python",
   "pygments_lexer": "ipython3",
   "version": "3.8.17"
  }
 },
 "nbformat": 4,
 "nbformat_minor": 2
}
